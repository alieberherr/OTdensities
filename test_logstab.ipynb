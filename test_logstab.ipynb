{
 "cells": [
  {
   "cell_type": "code",
   "execution_count": 1,
   "metadata": {},
   "outputs": [],
   "source": [
    "import numpy as np\n",
    "import matplotlib.pyplot as plt"
   ]
  },
  {
   "cell_type": "code",
   "execution_count": 8,
   "metadata": {},
   "outputs": [],
   "source": [
    "n = 5\n",
    "x = np.arange(n+1,dtype=np.float64)[1:]\n",
    "b = np.arange(1,n+1)/np.sum(x)\n",
    "a = np.arange(1,n+1)[::-1]/np.sum(x)"
   ]
  },
  {
   "cell_type": "code",
   "execution_count": 9,
   "metadata": {},
   "outputs": [
    {
     "name": "stdout",
     "output_type": "stream",
     "text": [
      "15.0\n"
     ]
    }
   ],
   "source": [
    "print(np.sum(x))"
   ]
  },
  {
   "cell_type": "code",
   "execution_count": 4,
   "metadata": {},
   "outputs": [
    {
     "data": {
      "text/plain": [
       "[<matplotlib.lines.Line2D at 0x113a4fa90>]"
      ]
     },
     "execution_count": 4,
     "metadata": {},
     "output_type": "execute_result"
    },
    {
     "data": {
      "image/png": "[encoded data removed]",
      "text/plain": [
       "<Figure size 432x288 with 1 Axes>"
      ]
     },
     "metadata": {
      "needs_background": "light"
     },
     "output_type": "display_data"
    }
   ],
   "source": [
    "plt.plot(x,a,label=r\"$\\rho_1$\")\n",
    "plt.plot(x,b,label=r\"$\\rho_2$\")"
   ]
  },
  {
   "cell_type": "markdown",
   "metadata": {},
   "source": [
    "now\n",
    "- 99 tiles must be moved from 1 to 2 -> tiles on 1: 1, tiles on 2: 198\n",
    "- 196 tiles moved from 2 to 3 -> tiles on 1: 1, tiles on 2: 2, tiles on 3: 294\n",
    "\n",
    "etc"
   ]
  },
  {
   "cell_type": "code",
   "execution_count": 11,
   "metadata": {},
   "outputs": [
    {
     "name": "stdout",
     "output_type": "stream",
     "text": [
      "8\n",
      "9\n",
      "8\n",
      "5\n",
      "final cost: 1.3333333333333335\n"
     ]
    }
   ],
   "source": [
    "tmp = n\n",
    "normal = np.sum(x)\n",
    "cost = 0.\n",
    "\n",
    "for i in range(1,n):\n",
    "    goal = i\n",
    "    move = tmp-i\n",
    "    cost += move/normal\n",
    "    tmp = (n-i)+move\n",
    "    print(tmp)\n",
    "    \n",
    "print(\"final cost:\",cost)"
   ]
  },
  {
   "cell_type": "markdown",
   "metadata": {},
   "source": [
    "**n=4**\n",
    "\n",
    "1. round: move 3 stones to the right -> now 6 stones on second\n",
    "2. round: move 4 stones to the right -> now 6 stones on third\n",
    "3. round: move 3 stones to the right -> now 4 stones on fourth"
   ]
  },
  {
   "cell_type": "markdown",
   "metadata": {},
   "source": [
    "**n=5**\n",
    "\n",
    "1. round: move 4 stones to the right -> now 8 stones on second\n",
    "2. round: move 6 stones to the right -> now 9 stones on third\n",
    "3. round: move 6 stones to the right -> now 8 stones on fourth\n",
    "4. round: move 4 stones to the right -> now 5 stones on fourth"
   ]
  },
  {
   "cell_type": "code",
   "execution_count": 10,
   "metadata": {},
   "outputs": [
    {
     "data": {
      "text/plain": [
       "1.3333333333333333"
      ]
     },
     "execution_count": 10,
     "metadata": {},
     "output_type": "execute_result"
    }
   ],
   "source": [
    "20/15"
   ]
  },
  {
   "cell_type": "code",
   "execution_count": null,
   "metadata": {},
   "outputs": [],
   "source": []
  }
 ],
 "metadata": {
  "kernelspec": {
   "display_name": "Python 3",
   "language": "python",
   "name": "python3"
  },
  "language_info": {
   "codemirror_mode": {
    "name": "ipython",
    "version": 3
   },
   "file_extension": ".py",
   "mimetype": "text/x-python",
   "name": "python",
   "nbconvert_exporter": "python",
   "pygments_lexer": "ipython3",
   "version": "3.9.1"
  }
 },
 "nbformat": 4,
 "nbformat_minor": 4
}
